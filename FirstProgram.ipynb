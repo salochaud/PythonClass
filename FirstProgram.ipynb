{
 "cells": [
  {
   "cell_type": "code",
   "execution_count": 2,
   "metadata": {},
   "outputs": [
    {
     "name": "stdout",
     "output_type": "stream",
     "text": [
      "Mathematics grade: 80\n",
      "Statistics grade: 90\n",
      "Electronics grade: 67\n",
      "Keep working, you have failed a matter\n"
     ]
    }
   ],
   "source": [
    "math = int(input(\"Mathematics grade: \"))\n",
    "statistics = int(input(\"Statistics grade: \"))\n",
    "electronics = int(input(\"Electronics grade: \"))\n",
    "if math <70 or statistics <70 or electronics <70:\n",
    "    print (\"Keep working, you have failed a matter\")\n",
    "else:\n",
    "    print (\"You have pass\")"
   ]
  },
  {
   "cell_type": "code",
   "execution_count": null,
   "metadata": {},
   "outputs": [],
   "source": []
  }
 ],
 "metadata": {
  "kernelspec": {
   "display_name": "Python 3",
   "language": "python",
   "name": "python3"
  },
  "language_info": {
   "codemirror_mode": {
    "name": "ipython",
    "version": 3
   },
   "file_extension": ".py",
   "mimetype": "text/x-python",
   "name": "python",
   "nbconvert_exporter": "python",
   "pygments_lexer": "ipython3",
   "version": "3.8.3"
  }
 },
 "nbformat": 4,
 "nbformat_minor": 4
}
